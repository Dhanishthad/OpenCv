{
 "cells": [
  {
   "cell_type": "markdown",
   "id": "74d4d98e-8081-4995-bdcb-f4e25b806147",
   "metadata": {},
   "source": [
    "1. Import Dependencies"
   ]
  },
  {
   "cell_type": "code",
   "execution_count": 25,
   "id": "b0aaeecb-8549-4741-98dc-ddf37aa8eb0c",
   "metadata": {},
   "outputs": [],
   "source": [
    "import cv2\n",
    "import os\n",
    "import matplotlib.pyplot as plt"
   ]
  },
  {
   "cell_type": "markdown",
   "id": "3056ae87-cecf-4a1a-b987-763f57d37b15",
   "metadata": {},
   "source": [
    "2. Load image"
   ]
  },
  {
   "cell_type": "code",
   "execution_count": 26,
   "id": "e9815a05-f2b7-49d0-8e70-8bbfa9ebae5a",
   "metadata": {},
   "outputs": [],
   "source": [
    "#file path to the img\n",
    "img_path= os.path.join(\"C:/Users/Dhanishtha/OneDrive/Documents/Placement Preparation/Data Science/OpenCv/Data/Images/bike.jpg\")"
   ]
  },
  {
   "cell_type": "code",
   "execution_count": 27,
   "id": "a8cb202e-adb2-4db6-bf02-db59121263a5",
   "metadata": {},
   "outputs": [],
   "source": [
    "img = cv2.imread(img_path)"
   ]
  },
  {
   "cell_type": "code",
   "execution_count": 28,
   "id": "35bf6861-eeb0-47fc-b346-f477dc97b3ca",
   "metadata": {
    "scrolled": true
   },
   "outputs": [
    {
     "data": {
      "text/plain": [
       "array([[[225, 211, 189],\n",
       "        [224, 210, 188],\n",
       "        [224, 210, 188],\n",
       "        ...,\n",
       "        [225, 216, 203],\n",
       "        [231, 222, 209],\n",
       "        [222, 213, 200]],\n",
       "\n",
       "       [[222, 208, 186],\n",
       "        [221, 207, 185],\n",
       "        [222, 208, 186],\n",
       "        ...,\n",
       "        [226, 217, 204],\n",
       "        [232, 223, 210],\n",
       "        [225, 216, 203]],\n",
       "\n",
       "       [[221, 207, 185],\n",
       "        [221, 207, 185],\n",
       "        [221, 207, 185],\n",
       "        ...,\n",
       "        [225, 216, 203],\n",
       "        [230, 221, 208],\n",
       "        [225, 216, 203]],\n",
       "\n",
       "       ...,\n",
       "\n",
       "       [[ 87, 103,  69],\n",
       "        [ 75,  91,  57],\n",
       "        [ 67,  83,  49],\n",
       "        ...,\n",
       "        [113, 170, 162],\n",
       "        [105, 159, 154],\n",
       "        [106, 160, 155]],\n",
       "\n",
       "       [[ 74,  92,  55],\n",
       "        [ 58,  76,  39],\n",
       "        [ 62,  80,  43],\n",
       "        ...,\n",
       "        [107, 161, 156],\n",
       "        [131, 182, 178],\n",
       "        [119, 170, 166]],\n",
       "\n",
       "       [[ 68,  86,  49],\n",
       "        [ 68,  86,  49],\n",
       "        [ 90, 108,  71],\n",
       "        ...,\n",
       "        [ 94, 148, 143],\n",
       "        [139, 190, 186],\n",
       "        [128, 179, 175]]], dtype=uint8)"
      ]
     },
     "execution_count": 28,
     "metadata": {},
     "output_type": "execute_result"
    }
   ],
   "source": [
    "img"
   ]
  },
  {
   "cell_type": "code",
   "execution_count": 29,
   "id": "9b17f878-6d96-455a-a2d5-39a3ff2ccd7b",
   "metadata": {},
   "outputs": [
    {
     "data": {
      "text/plain": [
       "(1500, 1000)"
      ]
     },
     "execution_count": 29,
     "metadata": {},
     "output_type": "execute_result"
    }
   ],
   "source": [
    "(int(img.shape[1]/2), int(img.shape[0]/2))"
   ]
  },
  {
   "cell_type": "code",
   "execution_count": 30,
   "id": "242d293e-8b82-49a2-ae53-bb9355c630e5",
   "metadata": {},
   "outputs": [],
   "source": [
    "#resize image\n",
    "resized_img = cv2.resize(img, (int(img.shape[1]/3), int(img.shape[0]/3)))\n",
    "\n",
    "#view image using opencv\n",
    "cv2.imshow('Frame view',resized_img)\n",
    "cv2.waitKey(0)\n",
    "cv2.destroyAllWindows()"
   ]
  },
  {
   "cell_type": "markdown",
   "id": "2fee6ecc-1f94-4932-977c-13cd60c7888f",
   "metadata": {},
   "source": [
    "3. Edge Detection"
   ]
  },
  {
   "cell_type": "code",
   "execution_count": 38,
   "id": "76452c98-cc39-4223-9515-4e45a5488acd",
   "metadata": {},
   "outputs": [],
   "source": [
    "#apply canny\n",
    "#reduce noise using blur function\n",
    "#use 5x5 gaussian blur filter\n",
    "\n",
    "gray=cv2.cvtColor(img, cv2.COLOR_BGR2GRAY)\n",
    "blur =  cv2.GaussianBlur(gray, (5,5), 0)\n",
    "#canny = cv2.Canny(gray, threshold1=200, threshold2=210)\n",
    "\n",
    "#blur =  cv2.GaussianBlur(img, (5,5), 0)\n",
    "#canny = cv2.Canny(img,  threshold1=200, threshold2=210)\n",
    "canny = cv2.Canny(blur, threshold1=200, threshold2=210)"
   ]
  },
  {
   "cell_type": "code",
   "execution_count": null,
   "id": "d49a11fa-4878-441d-b547-02293efbd21c",
   "metadata": {},
   "outputs": [],
   "source": [
    "# write a code for new "
   ]
  },
  {
   "cell_type": "code",
   "execution_count": null,
   "id": "cd313a06",
   "metadata": {},
   "outputs": [],
   "source": [
    "import math\n",
    "\n",
    "for n in range(25, 36):\n",
    "    print(f\"{n}! = {math.factorial(n)}\")"
   ]
  },
  {
   "cell_type": "markdown",
   "id": "2793c478-473c-488c-a900-61d0825ef526",
   "metadata": {},
   "source": [
    "4. Export Edges"
   ]
  },
  {
   "cell_type": "code",
   "execution_count": 40,
   "id": "08468f77-1e6e-4d90-8aeb-c032964e26d0",
   "metadata": {},
   "outputs": [
    {
     "data": {
      "text/plain": [
       "True"
      ]
     },
     "execution_count": 40,
     "metadata": {},
     "output_type": "execute_result"
    }
   ],
   "source": [
    "cv2.imwrite('edges.jpeg',canny)"
   ]
  }
 ],
 "metadata": {
  "kernelspec": {
   "display_name": "Python 3 (ipykernel)",
   "language": "python",
   "name": "python3"
  },
  "language_info": {
   "codemirror_mode": {
    "name": "ipython",
    "version": 3
   },
   "file_extension": ".py",
   "mimetype": "text/x-python",
   "name": "python",
   "nbconvert_exporter": "python",
   "pygments_lexer": "ipython3",
   "version": "3.11.7"
  }
 },
 "nbformat": 4,
 "nbformat_minor": 5
}
